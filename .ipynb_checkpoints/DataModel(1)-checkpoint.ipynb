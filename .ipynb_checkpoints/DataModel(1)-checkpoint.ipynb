{
 "cells": [
  {
   "cell_type": "code",
   "execution_count": 3,
   "metadata": {},
   "outputs": [],
   "source": [
    "import pandas as pd"
   ]
  },
  {
   "cell_type": "code",
   "execution_count": 15,
   "metadata": {},
   "outputs": [],
   "source": [
    "file = \"RoutesAndPassengers.xlsx\""
   ]
  },
  {
   "cell_type": "code",
   "execution_count": 17,
   "metadata": {},
   "outputs": [],
   "source": [
    "x1 = pd.ExcelFile(file)"
   ]
  },
  {
   "cell_type": "code",
   "execution_count": 18,
   "metadata": {},
   "outputs": [
    {
     "data": {
      "text/plain": [
       "['Routes', 'PassengersOnRoute']"
      ]
     },
     "execution_count": 18,
     "metadata": {},
     "output_type": "execute_result"
    }
   ],
   "source": [
    "x1.sheet_names"
   ]
  },
  {
   "cell_type": "code",
   "execution_count": 19,
   "metadata": {},
   "outputs": [],
   "source": [
    "a = x1.parse('PassengersOnRoute')"
   ]
  },
  {
   "cell_type": "code",
   "execution_count": 20,
   "metadata": {},
   "outputs": [
    {
     "data": {
      "text/html": [
       "<div>\n",
       "<style scoped>\n",
       "    .dataframe tbody tr th:only-of-type {\n",
       "        vertical-align: middle;\n",
       "    }\n",
       "\n",
       "    .dataframe tbody tr th {\n",
       "        vertical-align: top;\n",
       "    }\n",
       "\n",
       "    .dataframe thead th {\n",
       "        text-align: right;\n",
       "    }\n",
       "</style>\n",
       "<table border=\"1\" class=\"dataframe\">\n",
       "  <thead>\n",
       "    <tr style=\"text-align: right;\">\n",
       "      <th></th>\n",
       "      <th>Date</th>\n",
       "      <th>Time</th>\n",
       "      <th>Day</th>\n",
       "      <th>Alka</th>\n",
       "      <th>Choumu Pulia</th>\n",
       "      <th>Panipech</th>\n",
       "      <th>Chandpole</th>\n",
       "      <th>Badi Chopad</th>\n",
       "      <th>Ramgunj</th>\n",
       "    </tr>\n",
       "  </thead>\n",
       "  <tbody>\n",
       "    <tr>\n",
       "      <th>0</th>\n",
       "      <td>NaN</td>\n",
       "      <td>NaN</td>\n",
       "      <td>NaN</td>\n",
       "      <td>[10,15,18]</td>\n",
       "      <td>[20,15,-18]</td>\n",
       "      <td>[5,-15,-18]</td>\n",
       "      <td>[-18,-15,-5]</td>\n",
       "      <td>NaN</td>\n",
       "      <td>NaN</td>\n",
       "    </tr>\n",
       "  </tbody>\n",
       "</table>\n",
       "</div>"
      ],
      "text/plain": [
       "   Date  Time   Day        Alka Choumu Pulia    Panipech      Chandpole  \\\n",
       "0   NaN    NaN  NaN  [10,15,18]  [20,15,-18]  [5,-15,-18]  [-18,-15,-5]   \n",
       "\n",
       "    Badi Chopad   Ramgunj  \n",
       "0           NaN       NaN  "
      ]
     },
     "execution_count": 20,
     "metadata": {},
     "output_type": "execute_result"
    }
   ],
   "source": [
    "a.head()"
   ]
  },
  {
   "cell_type": "code",
   "execution_count": 22,
   "metadata": {},
   "outputs": [
    {
     "data": {
      "text/html": [
       "<div>\n",
       "<style scoped>\n",
       "    .dataframe tbody tr th:only-of-type {\n",
       "        vertical-align: middle;\n",
       "    }\n",
       "\n",
       "    .dataframe tbody tr th {\n",
       "        vertical-align: top;\n",
       "    }\n",
       "\n",
       "    .dataframe thead th {\n",
       "        text-align: right;\n",
       "    }\n",
       "</style>\n",
       "<table border=\"1\" class=\"dataframe\">\n",
       "  <thead>\n",
       "    <tr style=\"text-align: right;\">\n",
       "      <th></th>\n",
       "      <th>Date</th>\n",
       "      <th>Time</th>\n",
       "      <th>Day</th>\n",
       "      <th>Alka</th>\n",
       "      <th>Choumu Pulia</th>\n",
       "      <th>Panipech</th>\n",
       "      <th>Chandpole</th>\n",
       "      <th>Badi Chopad</th>\n",
       "      <th>Ramgunj</th>\n",
       "    </tr>\n",
       "  </thead>\n",
       "  <tbody>\n",
       "    <tr>\n",
       "      <th>0</th>\n",
       "      <td>NaN</td>\n",
       "      <td>NaN</td>\n",
       "      <td>NaN</td>\n",
       "      <td>[10,15,18]</td>\n",
       "      <td>[20,15,-18]</td>\n",
       "      <td>[5,-15,-18]</td>\n",
       "      <td>[-18,-15,-5]</td>\n",
       "      <td>NaN</td>\n",
       "      <td>NaN</td>\n",
       "    </tr>\n",
       "  </tbody>\n",
       "</table>\n",
       "</div>"
      ],
      "text/plain": [
       "   Date  Time   Day        Alka Choumu Pulia    Panipech      Chandpole  \\\n",
       "0   NaN    NaN  NaN  [10,15,18]  [20,15,-18]  [5,-15,-18]  [-18,-15,-5]   \n",
       "\n",
       "    Badi Chopad   Ramgunj  \n",
       "0           NaN       NaN  "
      ]
     },
     "execution_count": 22,
     "metadata": {},
     "output_type": "execute_result"
    }
   ],
   "source": [
    "a"
   ]
  },
  {
   "cell_type": "code",
   "execution_count": 65,
   "metadata": {},
   "outputs": [],
   "source": [
    "def getDateTime():\n",
    "    from datetime import datetime\n",
    "    date = datetime.now()\n",
    "    cd = str(date.day)+\"-\"+str(date.month)+\"-\"+str(date.year)\n",
    "    time = str(date.hour)+\":\"+str(date.minute)+\":\"+str(date.second)\n",
    "    day = date.strftime(\"%A\")\n",
    "    return cd, time, day"
   ]
  },
  {
   "cell_type": "code",
   "execution_count": 72,
   "metadata": {},
   "outputs": [],
   "source": [
    "def getRandomDateTime():\n",
    "    from datetime import datetime\n",
    "    import random\n",
    "    \n",
    "    year = 2018\n",
    "    month = 12\n",
    "    day = random.randint(1,30)\n",
    "    \n",
    "    hr = random.randint(1,24)\n",
    "    mi = random.randint(1,60)\n",
    "    sec = random.randint(1,60)\n",
    "    \n",
    "    date = datetime(year, month, day, hr, mi, sec)\n",
    "    cd = str(date.day)+\"-\"+str(date.month)+\"-\"+str(date.year)\n",
    "    time = str(date.hour)+\":\"+str(date.minute)+\":\"+str(date.second)\n",
    "    day = date.strftime(\"%A\")\n",
    "    return cd, time, day"
   ]
  },
  {
   "cell_type": "code",
   "execution_count": 74,
   "metadata": {},
   "outputs": [
    {
     "name": "stdout",
     "output_type": "stream",
     "text": [
      "5-12-2018 14:28:49 Wednesday\n"
     ]
    }
   ],
   "source": [
    "date, time, day = getRandomDateTime()\n",
    "print(str(date)+\" \"+str(time)+\" \"+str(day))"
   ]
  },
  {
   "cell_type": "code",
   "execution_count": 75,
   "metadata": {},
   "outputs": [
    {
     "name": "stdout",
     "output_type": "stream",
     "text": [
      "25-12-2018 10:50:38 Tuesday\n"
     ]
    }
   ],
   "source": [
    "date, time, day = getRandomDateTime()\n",
    "print(str(date)+\" \"+str(time)+\" \"+str(day))"
   ]
  },
  {
   "cell_type": "code",
   "execution_count": null,
   "metadata": {},
   "outputs": [],
   "source": [
    "def passengerData(n):\n",
    "    date, time, day = getRandomDateTime()\n",
    "    ar = [][]\n",
    "    for i in range(n):\n",
    "        for i in range(n):\n",
    "    \n",
    "    "
   ]
  },
  {
   "cell_type": "code",
   "execution_count": 32,
   "metadata": {},
   "outputs": [],
   "source": [
    "def nextDate(day, month, year,weekday, hour, minute, time_interval):\n",
    "    \n",
    "    if(time_interval>0):\n",
    "        minute = minute+time_interval\n",
    "        if(minute>=60):\n",
    "            minute = minute % 60\n",
    "            hour = hour + 1 \n",
    "            \n",
    "    if(hour>23):       \n",
    "        hour = hour % 24\n",
    "        \n",
    "        if (year % 400 == 0):\n",
    "            leap_year = True\n",
    "        elif (year % 100 == 0):\n",
    "            leap_year = False\n",
    "        elif (year % 4 == 0):\n",
    "            leap_year = True\n",
    "        else:\n",
    "            leap_year = False\n",
    "        \n",
    "        #month\n",
    "        if month in (1, 3, 5, 7, 8, 10, 12):\n",
    "            month_length = 31\n",
    "        elif month == 2:\n",
    "            if leap_year:\n",
    "                month_length = 29\n",
    "            else:\n",
    "                month_length = 28\n",
    "        else:\n",
    "            month_length = 30\n",
    "\n",
    "        #day\n",
    "        if (day < month_length):\n",
    "            day += 1\n",
    "            hour = hour % 24\n",
    "        else:\n",
    "            day = 1\n",
    "            if month == 12:\n",
    "                month = 1\n",
    "                year += 1\n",
    "            else:\n",
    "                month += 1\n",
    "        #weekday\n",
    "        days_of_week=['Monday', 'Tuesday', 'Wednesday', 'Thursday', 'Friday', 'Saturday','Sunday']\n",
    "        index = days_of_week.index(weekday)\n",
    "        index= (index+1)%7\n",
    "        weekday=days_of_week[index]\n",
    "    return day, month, year, weekday , hour,minute"
   ]
  },
  {
   "cell_type": "code",
   "execution_count": 33,
   "metadata": {},
   "outputs": [
    {
     "data": {
      "text/plain": [
       "(31, 12, 1998, 'Sunday', 3, 15)"
      ]
     },
     "execution_count": 33,
     "metadata": {},
     "output_type": "execute_result"
    }
   ],
   "source": [
    "nextDate(31,12,1998,'Sunday', 3, 9, 6)"
   ]
  },
  {
   "cell_type": "code",
   "execution_count": 44,
   "metadata": {},
   "outputs": [],
   "source": [
    "def printNextDate(day, month, year,weekday, hour, minute, time_interval):\n",
    "    import random\n",
    "    day, month, year, weekday, hour, minute = nextDate(day, month, year,weekday, hour, minute, time_interval)\n",
    "    date = str(day)+\"-\"+str(month)+\"-\"+str(year)\n",
    "    time = str(hour)+\":\"+str(minute)\n",
    "    return date, weekday, time\n",
    "        \n"
   ]
  },
  {
   "cell_type": "code",
   "execution_count": 45,
   "metadata": {},
   "outputs": [
    {
     "data": {
      "text/plain": [
       "('31-12-1998', 'Sunday', '3:15')"
      ]
     },
     "execution_count": 45,
     "metadata": {},
     "output_type": "execute_result"
    }
   ],
   "source": [
    "printNextDate(31,12,1998,'Sunday', 3, 9, 6)"
   ]
  },
  {
   "cell_type": "code",
   "execution_count": null,
   "metadata": {},
   "outputs": [],
   "source": []
  }
 ],
 "metadata": {
  "kernelspec": {
   "display_name": "Python 3",
   "language": "python",
   "name": "python3"
  },
  "language_info": {
   "codemirror_mode": {
    "name": "ipython",
    "version": 3
   },
   "file_extension": ".py",
   "mimetype": "text/x-python",
   "name": "python",
   "nbconvert_exporter": "python",
   "pygments_lexer": "ipython3",
   "version": "3.6.4"
  }
 },
 "nbformat": 4,
 "nbformat_minor": 2
}
